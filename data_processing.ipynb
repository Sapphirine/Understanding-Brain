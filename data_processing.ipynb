{
 "cells": [
  {
   "cell_type": "code",
   "execution_count": 1,
   "id": "f001ea62-b3d4-45d0-8660-f3f22d842b96",
   "metadata": {},
   "outputs": [
    {
     "name": "stdout",
     "output_type": "stream",
     "text": [
      "There are 110 directories in kaggle_3m\n"
     ]
    }
   ],
   "source": [
    "import os\n",
    "\n",
    "# Set the path to the directory\n",
    "path = 'kaggle_3m'\n",
    "\n",
    "# List all entries in the directory\n",
    "entries = os.listdir(path)\n",
    "\n",
    "# Filter entries to count only directories\n",
    "directory_count = sum(os.path.isdir(os.path.join(path, entry)) for entry in entries)\n",
    "\n",
    "print(f\"There are {directory_count} directories in {path}\")\n"
   ]
  },
  {
   "cell_type": "code",
   "execution_count": 9,
   "id": "c4cf27bf-da79-45a4-9815-a7cb4d9e55ef",
   "metadata": {},
   "outputs": [
    {
     "name": "stdout",
     "output_type": "stream",
     "text": [
      "110\n",
      "Moved 88 folders to Train and reorganized all files within them.\n"
     ]
    }
   ],
   "source": [
    "import os\n",
    "import shutil\n",
    "\n",
    "# Path to the 'kaggle_3m' directory\n",
    "source_directory = 'kaggle_3m'\n",
    "\n",
    "# Path where the new 'Train' directory will be created inside 'kaggle_3m'\n",
    "train_directory = os.path.join('Train')\n",
    "\n",
    "# Ensure the 'Train' directory exists\n",
    "if not os.path.exists(train_directory):\n",
    "    os.makedirs(train_directory)\n",
    "\n",
    "# List all entries in the 'kaggle_3m' directory that are directories\n",
    "all_folders = [d for d in os.listdir(source_directory) if os.path.isdir(os.path.join(source_directory, d))]\n",
    "print(len(all_folders))\n",
    "\n",
    "# Calculate 80% of these folders\n",
    "cutoff = int(len(all_folders) * 0.8)\n",
    "\n",
    "# Move the first 80% of folders to the 'Train' directory\n",
    "for folder in all_folders[:cutoff]:\n",
    "    shutil.move(os.path.join(source_directory, folder), os.path.join(train_directory, folder))\n",
    "\n",
    "# Move all files from subfolders to the 'Train' directory and remove the subfolders\n",
    "for root, dirs, files in os.walk(train_directory, topdown=False):\n",
    "    for file in files:\n",
    "        shutil.move(os.path.join(root, file), train_directory)\n",
    "    for name in dirs:\n",
    "        os.rmdir(os.path.join(root, name))  # This removes each empty directory\n",
    "\n",
    "print(f\"Moved {cutoff} folders to {train_directory} and reorganized all files within them.\")\n"
   ]
  },
  {
   "cell_type": "code",
   "execution_count": 10,
   "id": "38a9275f-7ba4-441d-bc4d-6c95ea4944fd",
   "metadata": {},
   "outputs": [
    {
     "name": "stdout",
     "output_type": "stream",
     "text": [
      "Renamed 3205 file pairs in Train.\n"
     ]
    }
   ],
   "source": [
    "import os\n",
    "\n",
    "# Path where the files are located (assuming it's the 'Train' directory from previous examples)\n",
    "train_directory = 'Train'\n",
    "\n",
    "# Collect all .tif files\n",
    "all_tif_files = [f for f in os.listdir(train_directory) if f.endswith('.tif')]\n",
    "\n",
    "# Initialize a counter for naming files\n",
    "counter = 1\n",
    "\n",
    "# Process files for renaming\n",
    "for file in all_tif_files:\n",
    "    if not file.endswith('_mask.tif'):\n",
    "        # Determine the base name without the extension\n",
    "        base_name = file[:-4]\n",
    "        mask_name = base_name + '_mask.tif'\n",
    "\n",
    "        # Check if the corresponding mask file exists\n",
    "        if mask_name in all_tif_files:\n",
    "            # Create new file names\n",
    "            new_base_name = f'im_{counter:04d}.tif'\n",
    "            new_mask_name = f'im_{counter:04d}_mask.tif'\n",
    "\n",
    "            # Rename the image file\n",
    "            os.rename(os.path.join(train_directory, file), os.path.join(train_directory, new_base_name))\n",
    "            # Rename the mask file\n",
    "            os.rename(os.path.join(train_directory, mask_name), os.path.join(train_directory, new_mask_name))\n",
    "\n",
    "            # Increment the counter after renaming a pair\n",
    "            counter += 1\n",
    "\n",
    "print(f\"Renamed {counter - 1} file pairs in {train_directory}.\")\n"
   ]
  },
  {
   "cell_type": "code",
   "execution_count": 11,
   "id": "677e3537-0ace-49d5-873d-a9a1cefb4f77",
   "metadata": {},
   "outputs": [
    {
     "name": "stdout",
     "output_type": "stream",
     "text": [
      "Files have been moved to Train/imagesTr and Train/labelsTr respectively.\n"
     ]
    }
   ],
   "source": [
    "# Base directory where the files are located\n",
    "base_directory = 'Train'\n",
    "\n",
    "# Path for the new 'imagesTr' and 'labelsTr' directories\n",
    "images_tr_directory = os.path.join(base_directory, 'imagesTr')\n",
    "labels_tr_directory = os.path.join(base_directory, 'labelsTr')\n",
    "\n",
    "# Ensure the 'imagesTr' and 'labelsTr' directories exist\n",
    "os.makedirs(images_tr_directory, exist_ok=True)\n",
    "os.makedirs(labels_tr_directory, exist_ok=True)\n",
    "\n",
    "# Move files to their respective directories\n",
    "for file in os.listdir(base_directory):\n",
    "    if file.endswith('.tif'):  # Check if it is a tif file\n",
    "        if '_mask.tif' in file:\n",
    "            # It's a mask file, move it to 'labelsTr'\n",
    "            shutil.move(os.path.join(base_directory, file), os.path.join(labels_tr_directory, file))\n",
    "        else:\n",
    "            # It's an image file, move it to 'imagesTr'\n",
    "            shutil.move(os.path.join(base_directory, file), os.path.join(images_tr_directory, file))\n",
    "\n",
    "print(f\"Files have been moved to {images_tr_directory} and {labels_tr_directory} respectively.\")\n"
   ]
  },
  {
   "cell_type": "code",
   "execution_count": 12,
   "id": "a157bfad-2d66-4266-b880-5c68c2fac021",
   "metadata": {},
   "outputs": [
    {
     "name": "stdout",
     "output_type": "stream",
     "text": [
      "Files in Train/labelsTr have been renamed.\n"
     ]
    }
   ],
   "source": [
    "import os\n",
    "\n",
    "# Path to the 'labelsTr' directory\n",
    "labels_tr_directory = 'Train/labelsTr'\n",
    "\n",
    "# Rename files in 'labelsTr' by removing '_mask'\n",
    "for file in os.listdir(labels_tr_directory):\n",
    "    if file.endswith('_mask.tif'):\n",
    "        # Construct new file name by removing '_mask'\n",
    "        new_file_name = file.replace('_mask', '')\n",
    "        # Rename the file\n",
    "        os.rename(os.path.join(labels_tr_directory, file), os.path.join(labels_tr_directory, new_file_name))\n",
    "\n",
    "print(f\"Files in {labels_tr_directory} have been renamed.\")\n"
   ]
  },
  {
   "cell_type": "code",
   "execution_count": 13,
   "id": "b5d767c0-7b96-4ff7-a05b-ec377b03745e",
   "metadata": {},
   "outputs": [
    {
     "name": "stdout",
     "output_type": "stream",
     "text": [
      "Files in Train/imagesTr have been renamed.\n"
     ]
    }
   ],
   "source": [
    "import os\n",
    "\n",
    "# Path to the 'imagesTr' directory\n",
    "images_tr_directory = 'Train/imagesTr'\n",
    "\n",
    "# Rename files in 'imagesTr' by adding '_0000' before '.tif'\n",
    "for file in os.listdir(images_tr_directory):\n",
    "    if file.endswith('.tif'):\n",
    "        # Construct new file name by inserting '_0000' before '.tif'\n",
    "        new_file_name = file[:-4] + '_0000.tif'\n",
    "        # Rename the file\n",
    "        os.rename(os.path.join(images_tr_directory, file), os.path.join(images_tr_directory, new_file_name))\n",
    "\n",
    "print(f\"Files in {images_tr_directory} have been renamed.\")"
   ]
  },
  {
   "cell_type": "code",
   "execution_count": 16,
   "id": "a9757f29-d626-4270-a8b9-17feb71210e8",
   "metadata": {},
   "outputs": [
    {
     "name": "stdout",
     "output_type": "stream",
     "text": [
      "3205\n"
     ]
    }
   ],
   "source": [
    "import os\n",
    "\n",
    "# Set the path to the directory\n",
    "path = 'nnUNet/nnUNet_raw/Dataset001_Brain/imagesTr'\n",
    "\n",
    "# List all entries in the directory\n",
    "entries = os.listdir(path)\n",
    "\n",
    "# Filter entries to count only directories\n",
    "print(len(entries))\n",
    "\n",
    "# print(f\"There are {directory_count} directories in {path}\")"
   ]
  },
  {
   "cell_type": "code",
   "execution_count": 17,
   "id": "bd3e5fdc-54c2-4aff-8631-ee76a09b14ba",
   "metadata": {},
   "outputs": [
    {
     "name": "stdout",
     "output_type": "stream",
     "text": [
      "3205\n"
     ]
    }
   ],
   "source": [
    "import os\n",
    "\n",
    "# Set the path to the directory\n",
    "path = 'nnUNet/nnUNet_raw/Dataset001_Brain/labelsTr'\n",
    "\n",
    "# List all entries in the directory\n",
    "entries = os.listdir(path)\n",
    "\n",
    "# Filter entries to count only directories\n",
    "print(len(entries))"
   ]
  },
  {
   "cell_type": "code",
   "execution_count": 19,
   "id": "7fe1e714-41d3-4b93-9dc1-236afc398486",
   "metadata": {},
   "outputs": [
    {
     "name": "stderr",
     "output_type": "stream",
     "text": [
      "/tmp/ipykernel_1709/2323808504.py:14: DeprecationWarning: Starting with ImageIO v3 the behavior of this function will switch to that of iio.v3.imread. To keep the current behavior (and make this warning disappear) use `import imageio.v2 as imageio` or call `imageio.v2.imread` directly.\n",
      "  image = imageio.imread(file_path)\n"
     ]
    },
    {
     "name": "stdout",
     "output_type": "stream",
     "text": [
      "All images have been binarized: 0 remains 0, values > 0 are set to 1.\n"
     ]
    }
   ],
   "source": [
    "import os\n",
    "import numpy as np\n",
    "import imageio\n",
    "\n",
    "# Path to the 'imagesTr' directory\n",
    "images_tr_directory = 'nnUNet/nnUNet_raw/Dataset001_Brain/labelsTr'\n",
    "\n",
    "# Process each .tif file in the directory\n",
    "for file_name in os.listdir(images_tr_directory):\n",
    "    if file_name.endswith('.tif'):\n",
    "        file_path = os.path.join(images_tr_directory, file_name)\n",
    "        \n",
    "        # Load the image\n",
    "        image = imageio.imread(file_path)\n",
    "        \n",
    "        # Convert image to a numpy array\n",
    "        image_array = np.array(image)\n",
    "\n",
    "        # Binarize the image: 0 stays 0, greater than 0 becomes 1\n",
    "        image_array = np.where(image_array > 0, 1, 0)\n",
    "        \n",
    "        # Save the binarized image back to disk\n",
    "        imageio.imwrite(file_path, image_array.astype(np.uint8))\n",
    "\n",
    "print(\"All images have been binarized: 0 remains 0, values > 0 are set to 1.\")\n",
    "\n"
   ]
  },
  {
   "cell_type": "code",
   "execution_count": null,
   "id": "85d1edf4-0e8f-47b9-9a11-391f154db59b",
   "metadata": {},
   "outputs": [],
   "source": []
  }
 ],
 "metadata": {
  "kernelspec": {
   "display_name": "Python 3 (ipykernel)",
   "language": "python",
   "name": "python3"
  },
  "language_info": {
   "codemirror_mode": {
    "name": "ipython",
    "version": 3
   },
   "file_extension": ".py",
   "mimetype": "text/x-python",
   "name": "python",
   "nbconvert_exporter": "python",
   "pygments_lexer": "ipython3",
   "version": "3.10.8"
  }
 },
 "nbformat": 4,
 "nbformat_minor": 5
}
